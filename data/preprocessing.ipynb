{
 "cells": [
  {
   "cell_type": "code",
   "execution_count": 2,
   "id": "a025093f",
   "metadata": {},
   "outputs": [],
   "source": [
    "import pandas as pd"
   ]
  },
  {
   "cell_type": "code",
   "execution_count": 30,
   "id": "de00125e",
   "metadata": {},
   "outputs": [],
   "source": [
    "amd = pd.read_csv('AMD.csv')\n",
    "nvda = pd.read_csv('NVDA.csv')"
   ]
  },
  {
   "cell_type": "code",
   "execution_count": 31,
   "id": "c161a6e0",
   "metadata": {},
   "outputs": [
    {
     "data": {
      "text/plain": [
       "(3635, 3635)"
      ]
     },
     "execution_count": 31,
     "metadata": {},
     "output_type": "execute_result"
    }
   ],
   "source": [
    "len(amd), len(nvda)"
   ]
  },
  {
   "cell_type": "code",
   "execution_count": 32,
   "id": "e6ab0bab",
   "metadata": {},
   "outputs": [],
   "source": [
    "abscent = list(set(amd['time']) - set(nvda['time']))"
   ]
  },
  {
   "cell_type": "code",
   "execution_count": 9,
   "id": "35bd0176",
   "metadata": {},
   "outputs": [],
   "source": [
    "aa = abscent.copy()\n",
    "ind_1 = list(amd['time']).index(aa[0])\n",
    "ind_2 = list(amd['time']).index(aa[1])\n",
    "f1_b1 = [amd['time'][ind_1-1], amd['time'][ind_1+1]]\n",
    "f2_b2 = [amd['time'][ind_2-1], amd['time'][ind_2+1]]"
   ]
  },
  {
   "cell_type": "code",
   "execution_count": 10,
   "id": "cf7393e3",
   "metadata": {},
   "outputs": [
    {
     "data": {
      "text/plain": [
       "['2020-12-24T17:30:00Z', '2020-12-28T14:30:00Z']"
      ]
     },
     "execution_count": 10,
     "metadata": {},
     "output_type": "execute_result"
    }
   ],
   "source": [
    "f1_b1"
   ]
  },
  {
   "cell_type": "code",
   "execution_count": 11,
   "id": "f81234ab",
   "metadata": {},
   "outputs": [
    {
     "data": {
      "text/plain": [
       "['2020-11-27T18:30:00Z', '2020-11-30T14:30:00Z']"
      ]
     },
     "execution_count": 11,
     "metadata": {},
     "output_type": "execute_result"
    }
   ],
   "source": [
    "f2_b2"
   ]
  },
  {
   "cell_type": "code",
   "execution_count": 12,
   "id": "48df8791",
   "metadata": {},
   "outputs": [],
   "source": [
    "new_f1 = nvda.iloc[list(nvda['time']).index(f1_b1[0]), 1:]\n",
    "new_b1 = nvda.iloc[list(nvda['time']).index(f1_b1[1]), 1:]\n",
    "new_f2 = nvda.iloc[list(nvda['time']).index(f2_b2[0]), 1:]\n",
    "new_b2 = nvda.iloc[list(nvda['time']).index(f2_b2[1]), 1:]"
   ]
  },
  {
   "cell_type": "code",
   "execution_count": 21,
   "id": "af4995bc",
   "metadata": {},
   "outputs": [],
   "source": [
    "new1 = [(i+j)/2 for i, j in zip(new_f1, new_b1)]"
   ]
  },
  {
   "cell_type": "code",
   "execution_count": 22,
   "id": "1ed63004",
   "metadata": {},
   "outputs": [],
   "source": [
    "new2 = [(i+j)/2 for i, j in zip(new_f2, new_b2)]"
   ]
  },
  {
   "cell_type": "code",
   "execution_count": 24,
   "id": "4db974c3",
   "metadata": {},
   "outputs": [],
   "source": [
    "nvda.loc[12345] = [abscent[0]] + new1\n",
    "nvda.loc[12346] = [abscent[1]] + new2"
   ]
  },
  {
   "cell_type": "code",
   "execution_count": 26,
   "id": "96e9361a",
   "metadata": {},
   "outputs": [],
   "source": [
    "nvda = nvda.sort_values(by=['time'])"
   ]
  },
  {
   "cell_type": "code",
   "execution_count": 28,
   "id": "cf6b3cb4",
   "metadata": {},
   "outputs": [],
   "source": [
    "for i, j in zip(amd['time'], nvda['time']):\n",
    "    if i != j:\n",
    "        print('hell')"
   ]
  },
  {
   "cell_type": "code",
   "execution_count": 29,
   "id": "431b7848",
   "metadata": {},
   "outputs": [],
   "source": [
    "nvda.to_csv('NVDA.csv', index=False)"
   ]
  },
  {
   "cell_type": "code",
   "execution_count": 111,
   "id": "48cd8d81",
   "metadata": {},
   "outputs": [
    {
     "data": {
      "text/html": [
       "<div>\n",
       "<style scoped>\n",
       "    .dataframe tbody tr th:only-of-type {\n",
       "        vertical-align: middle;\n",
       "    }\n",
       "\n",
       "    .dataframe tbody tr th {\n",
       "        vertical-align: top;\n",
       "    }\n",
       "\n",
       "    .dataframe thead th {\n",
       "        text-align: right;\n",
       "    }\n",
       "</style>\n",
       "<table border=\"1\" class=\"dataframe\">\n",
       "  <thead>\n",
       "    <tr style=\"text-align: right;\">\n",
       "      <th></th>\n",
       "      <th>time</th>\n",
       "      <th>open</th>\n",
       "      <th>high</th>\n",
       "      <th>low</th>\n",
       "      <th>close</th>\n",
       "      <th>Volume</th>\n",
       "      <th>Volume MA</th>\n",
       "    </tr>\n",
       "  </thead>\n",
       "  <tbody>\n",
       "    <tr>\n",
       "      <th>3630</th>\n",
       "      <td>2021-05-24T15:30:00Z</td>\n",
       "      <td>625.290</td>\n",
       "      <td>626.64</td>\n",
       "      <td>623.82</td>\n",
       "      <td>625.50</td>\n",
       "      <td>11932.0</td>\n",
       "      <td>40323.50</td>\n",
       "    </tr>\n",
       "    <tr>\n",
       "      <th>3631</th>\n",
       "      <td>2021-05-24T16:30:00Z</td>\n",
       "      <td>626.195</td>\n",
       "      <td>627.67</td>\n",
       "      <td>625.04</td>\n",
       "      <td>627.67</td>\n",
       "      <td>11776.0</td>\n",
       "      <td>40224.95</td>\n",
       "    </tr>\n",
       "    <tr>\n",
       "      <th>3632</th>\n",
       "      <td>2021-05-24T17:30:00Z</td>\n",
       "      <td>627.620</td>\n",
       "      <td>629.64</td>\n",
       "      <td>627.42</td>\n",
       "      <td>628.35</td>\n",
       "      <td>20193.0</td>\n",
       "      <td>40390.30</td>\n",
       "    </tr>\n",
       "    <tr>\n",
       "      <th>3633</th>\n",
       "      <td>2021-05-24T18:30:00Z</td>\n",
       "      <td>628.860</td>\n",
       "      <td>629.51</td>\n",
       "      <td>626.32</td>\n",
       "      <td>626.48</td>\n",
       "      <td>9739.0</td>\n",
       "      <td>39795.35</td>\n",
       "    </tr>\n",
       "    <tr>\n",
       "      <th>3634</th>\n",
       "      <td>2021-05-24T19:30:00Z</td>\n",
       "      <td>626.210</td>\n",
       "      <td>627.28</td>\n",
       "      <td>623.88</td>\n",
       "      <td>624.48</td>\n",
       "      <td>18210.0</td>\n",
       "      <td>36651.50</td>\n",
       "    </tr>\n",
       "  </tbody>\n",
       "</table>\n",
       "</div>"
      ],
      "text/plain": [
       "                      time     open    high     low   close   Volume  \\\n",
       "3630  2021-05-24T15:30:00Z  625.290  626.64  623.82  625.50  11932.0   \n",
       "3631  2021-05-24T16:30:00Z  626.195  627.67  625.04  627.67  11776.0   \n",
       "3632  2021-05-24T17:30:00Z  627.620  629.64  627.42  628.35  20193.0   \n",
       "3633  2021-05-24T18:30:00Z  628.860  629.51  626.32  626.48   9739.0   \n",
       "3634  2021-05-24T19:30:00Z  626.210  627.28  623.88  624.48  18210.0   \n",
       "\n",
       "      Volume MA  \n",
       "3630   40323.50  \n",
       "3631   40224.95  \n",
       "3632   40390.30  \n",
       "3633   39795.35  \n",
       "3634   36651.50  "
      ]
     },
     "execution_count": 111,
     "metadata": {},
     "output_type": "execute_result"
    }
   ],
   "source": [
    "nvda.tail()"
   ]
  },
  {
   "cell_type": "markdown",
   "id": "cb2b0a7e",
   "metadata": {},
   "source": [
    "## Electric Power Preprocessing"
   ]
  },
  {
   "cell_type": "code",
   "execution_count": 84,
   "id": "9689365a",
   "metadata": {},
   "outputs": [],
   "source": [
    "aep = pd.read_csv('e_AEP.csv')\n",
    "dom = pd.read_csv('e_DOM.csv')"
   ]
  },
  {
   "cell_type": "code",
   "execution_count": 85,
   "id": "7cce6832",
   "metadata": {},
   "outputs": [],
   "source": [
    "aep.columns = ['time', 'close']\n",
    "dom.columns = ['time', 'close']\n",
    "aep = aep.sort_values(by=['time']).reset_index().iloc[:,1:]\n",
    "dom = dom.sort_values(by=['time']).reset_index().iloc[:,1:]"
   ]
  },
  {
   "cell_type": "code",
   "execution_count": 89,
   "id": "eca1e7ad",
   "metadata": {},
   "outputs": [],
   "source": [
    "new_aep = aep.iloc[list(aep['time']).index(dom['time'][0]):,:].reset_index().iloc[:,1:]"
   ]
  },
  {
   "cell_type": "code",
   "execution_count": 90,
   "id": "4f6baaf0",
   "metadata": {},
   "outputs": [
    {
     "data": {
      "text/plain": [
       "(116187, 116189)"
      ]
     },
     "execution_count": 90,
     "metadata": {},
     "output_type": "execute_result"
    }
   ],
   "source": [
    "len(new_aep), len(dom)"
   ]
  },
  {
   "cell_type": "code",
   "execution_count": 93,
   "id": "479a49cb",
   "metadata": {},
   "outputs": [],
   "source": [
    "new_aep = new_aep.drop_duplicates(['time'], keep='first')\n",
    "dom = dom.drop_duplicates(['time'], keep='first')"
   ]
  },
  {
   "cell_type": "code",
   "execution_count": 98,
   "id": "3f7aea54",
   "metadata": {},
   "outputs": [],
   "source": [
    "abscent = list(set(dom['time']) - set(new_aep['time']))"
   ]
  },
  {
   "cell_type": "code",
   "execution_count": 99,
   "id": "2de37e34",
   "metadata": {},
   "outputs": [],
   "source": [
    "aa = abscent.copy()\n",
    "ind_1 = list(dom['time']).index(aa[0])\n",
    "ind_2 = list(dom['time']).index(aa[1])\n",
    "f1_b1 = [dom['time'][ind_1-1], dom['time'][ind_1+1]]\n",
    "f2_b2 = [dom['time'][ind_2-1], dom['time'][ind_2+1]]"
   ]
  },
  {
   "cell_type": "code",
   "execution_count": 102,
   "id": "ad492607",
   "metadata": {},
   "outputs": [],
   "source": [
    "new_f1 = new_aep.iloc[list(new_aep['time']).index(f1_b1[0]), 1:]\n",
    "new_b1 = new_aep.iloc[list(new_aep['time']).index(f1_b1[1]), 1:]\n",
    "new_f2 = new_aep.iloc[list(new_aep['time']).index(f2_b2[0]), 1:]\n",
    "new_b2 = new_aep.iloc[list(new_aep['time']).index(f2_b2[1]), 1:]"
   ]
  },
  {
   "cell_type": "code",
   "execution_count": 104,
   "id": "6ce7bd4c",
   "metadata": {},
   "outputs": [],
   "source": [
    "new1 = (new_f1[0] + new_b1[0]) / 2\n",
    "new2 = (new_f2[0] + new_b2[0]) / 2"
   ]
  },
  {
   "cell_type": "code",
   "execution_count": 105,
   "id": "43d77ae7",
   "metadata": {},
   "outputs": [
    {
     "name": "stderr",
     "output_type": "stream",
     "text": [
      "/opt/conda/lib/python3.7/site-packages/pandas/core/indexing.py:692: SettingWithCopyWarning: \n",
      "A value is trying to be set on a copy of a slice from a DataFrame\n",
      "\n",
      "See the caveats in the documentation: https://pandas.pydata.org/pandas-docs/stable/user_guide/indexing.html#returning-a-view-versus-a-copy\n",
      "  iloc._setitem_with_indexer(indexer, value, self.name)\n"
     ]
    }
   ],
   "source": [
    "new_aep.loc[1112345] = [abscent[0]] + [new1]\n",
    "new_aep.loc[1112346] = [abscent[1]] + [new2]"
   ]
  },
  {
   "cell_type": "code",
   "execution_count": 106,
   "id": "fbd9c843",
   "metadata": {},
   "outputs": [],
   "source": [
    "new_aep = new_aep.sort_values(by=['time'])"
   ]
  },
  {
   "cell_type": "code",
   "execution_count": 108,
   "id": "fff546e8",
   "metadata": {},
   "outputs": [],
   "source": [
    "for i, j in zip(new_aep['time'], dom['time']):\n",
    "    if i != j:\n",
    "        print('no')"
   ]
  },
  {
   "cell_type": "code",
   "execution_count": 109,
   "id": "f9e5cf8a",
   "metadata": {},
   "outputs": [
    {
     "data": {
      "text/plain": [
       "(116185, 116185)"
      ]
     },
     "execution_count": 109,
     "metadata": {},
     "output_type": "execute_result"
    }
   ],
   "source": [
    "len(new_aep), len(dom)"
   ]
  },
  {
   "cell_type": "code",
   "execution_count": 110,
   "id": "8278b47f",
   "metadata": {},
   "outputs": [],
   "source": [
    "new_aep.to_csv('e_AEP.csv', index=False)\n",
    "dom.to_csv('e_DOM.csv', index=False)"
   ]
  },
  {
   "cell_type": "code",
   "execution_count": 114,
   "id": "5adea41b",
   "metadata": {},
   "outputs": [
    {
     "data": {
      "text/html": [
       "<div>\n",
       "<style scoped>\n",
       "    .dataframe tbody tr th:only-of-type {\n",
       "        vertical-align: middle;\n",
       "    }\n",
       "\n",
       "    .dataframe tbody tr th {\n",
       "        vertical-align: top;\n",
       "    }\n",
       "\n",
       "    .dataframe thead th {\n",
       "        text-align: right;\n",
       "    }\n",
       "</style>\n",
       "<table border=\"1\" class=\"dataframe\">\n",
       "  <thead>\n",
       "    <tr style=\"text-align: right;\">\n",
       "      <th></th>\n",
       "      <th>time</th>\n",
       "      <th>close</th>\n",
       "    </tr>\n",
       "  </thead>\n",
       "  <tbody>\n",
       "    <tr>\n",
       "      <th>116184</th>\n",
       "      <td>2018-08-02 20:00:00</td>\n",
       "      <td>14038.0</td>\n",
       "    </tr>\n",
       "    <tr>\n",
       "      <th>116185</th>\n",
       "      <td>2018-08-02 21:00:00</td>\n",
       "      <td>13832.0</td>\n",
       "    </tr>\n",
       "    <tr>\n",
       "      <th>116186</th>\n",
       "      <td>2018-08-02 22:00:00</td>\n",
       "      <td>13312.0</td>\n",
       "    </tr>\n",
       "    <tr>\n",
       "      <th>116187</th>\n",
       "      <td>2018-08-02 23:00:00</td>\n",
       "      <td>12390.0</td>\n",
       "    </tr>\n",
       "    <tr>\n",
       "      <th>116188</th>\n",
       "      <td>2018-08-03 00:00:00</td>\n",
       "      <td>11385.0</td>\n",
       "    </tr>\n",
       "  </tbody>\n",
       "</table>\n",
       "</div>"
      ],
      "text/plain": [
       "                       time    close\n",
       "116184  2018-08-02 20:00:00  14038.0\n",
       "116185  2018-08-02 21:00:00  13832.0\n",
       "116186  2018-08-02 22:00:00  13312.0\n",
       "116187  2018-08-02 23:00:00  12390.0\n",
       "116188  2018-08-03 00:00:00  11385.0"
      ]
     },
     "execution_count": 114,
     "metadata": {},
     "output_type": "execute_result"
    }
   ],
   "source": [
    "dom.tail()"
   ]
  },
  {
   "cell_type": "code",
   "execution_count": null,
   "id": "51708fb2",
   "metadata": {},
   "outputs": [],
   "source": []
  }
 ],
 "metadata": {
  "environment": {
   "name": "pytorch-gpu.1-8.m69",
   "type": "gcloud",
   "uri": "gcr.io/deeplearning-platform-release/pytorch-gpu.1-8:m69"
  },
  "kernelspec": {
   "display_name": "Python 3",
   "language": "python",
   "name": "python3"
  },
  "language_info": {
   "codemirror_mode": {
    "name": "ipython",
    "version": 3
   },
   "file_extension": ".py",
   "mimetype": "text/x-python",
   "name": "python",
   "nbconvert_exporter": "python",
   "pygments_lexer": "ipython3",
   "version": "3.7.10"
  }
 },
 "nbformat": 4,
 "nbformat_minor": 5
}
