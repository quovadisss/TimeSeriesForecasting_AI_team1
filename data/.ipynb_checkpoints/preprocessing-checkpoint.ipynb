{
 "cells": [
  {
   "cell_type": "code",
   "execution_count": 2,
   "id": "28043cd3",
   "metadata": {},
   "outputs": [],
   "source": [
    "import pandas as pd"
   ]
  },
  {
   "cell_type": "code",
   "execution_count": 30,
   "id": "88dd82b1",
   "metadata": {},
   "outputs": [],
   "source": [
    "amd = pd.read_csv('AMD.csv')\n",
    "nvda = pd.read_csv('NVDA.csv')"
   ]
  },
  {
   "cell_type": "code",
   "execution_count": 31,
   "id": "4df21c53",
   "metadata": {},
   "outputs": [
    {
     "data": {
      "text/plain": [
       "(3635, 3635)"
      ]
     },
     "execution_count": 31,
     "metadata": {},
     "output_type": "execute_result"
    }
   ],
   "source": [
    "len(amd), len(nvda)"
   ]
  },
  {
   "cell_type": "code",
   "execution_count": 32,
   "id": "cd251038",
   "metadata": {},
   "outputs": [],
   "source": [
    "abscent = list(set(amd['time']) - set(nvda['time']))"
   ]
  },
  {
   "cell_type": "code",
   "execution_count": 9,
   "id": "20d9c2c4",
   "metadata": {},
   "outputs": [],
   "source": [
    "aa = abscent.copy()\n",
    "ind_1 = list(amd['time']).index(aa[0])\n",
    "ind_2 = list(amd['time']).index(aa[1])\n",
    "f1_b1 = [amd['time'][ind_1-1], amd['time'][ind_1+1]]\n",
    "f2_b2 = [amd['time'][ind_2-1], amd['time'][ind_2+1]]"
   ]
  },
  {
   "cell_type": "code",
   "execution_count": 10,
   "id": "e059e7b3",
   "metadata": {},
   "outputs": [
    {
     "data": {
      "text/plain": [
       "['2020-12-24T17:30:00Z', '2020-12-28T14:30:00Z']"
      ]
     },
     "execution_count": 10,
     "metadata": {},
     "output_type": "execute_result"
    }
   ],
   "source": [
    "f1_b1"
   ]
  },
  {
   "cell_type": "code",
   "execution_count": 11,
   "id": "92db6183",
   "metadata": {},
   "outputs": [
    {
     "data": {
      "text/plain": [
       "['2020-11-27T18:30:00Z', '2020-11-30T14:30:00Z']"
      ]
     },
     "execution_count": 11,
     "metadata": {},
     "output_type": "execute_result"
    }
   ],
   "source": [
    "f2_b2"
   ]
  },
  {
   "cell_type": "code",
   "execution_count": 12,
   "id": "cd8d866f",
   "metadata": {},
   "outputs": [],
   "source": [
    "new_f1 = nvda.iloc[list(nvda['time']).index(f1_b1[0]), 1:]\n",
    "new_b1 = nvda.iloc[list(nvda['time']).index(f1_b1[1]), 1:]\n",
    "new_f2 = nvda.iloc[list(nvda['time']).index(f2_b2[0]), 1:]\n",
    "new_b2 = nvda.iloc[list(nvda['time']).index(f2_b2[1]), 1:]"
   ]
  },
  {
   "cell_type": "code",
   "execution_count": 21,
   "id": "5aca4ec4",
   "metadata": {},
   "outputs": [],
   "source": [
    "new1 = [(i+j)/2 for i, j in zip(new_f1, new_b1)]"
   ]
  },
  {
   "cell_type": "code",
   "execution_count": 22,
   "id": "16d7d61c",
   "metadata": {},
   "outputs": [],
   "source": [
    "new2 = [(i+j)/2 for i, j in zip(new_f2, new_b2)]"
   ]
  },
  {
   "cell_type": "code",
   "execution_count": 24,
   "id": "fd926e91",
   "metadata": {},
   "outputs": [],
   "source": [
    "nvda.loc[12345] = [abscent[0]] + new1\n",
    "nvda.loc[12346] = [abscent[1]] + new2"
   ]
  },
  {
   "cell_type": "code",
   "execution_count": 26,
   "id": "8e6b6694",
   "metadata": {},
   "outputs": [],
   "source": [
    "nvda = nvda.sort_values(by=['time'])"
   ]
  },
  {
   "cell_type": "code",
   "execution_count": 28,
   "id": "21974647",
   "metadata": {},
   "outputs": [],
   "source": [
    "for i, j in zip(amd['time'], nvda['time']):\n",
    "    if i != j:\n",
    "        print('hell')"
   ]
  },
  {
   "cell_type": "code",
   "execution_count": 29,
   "id": "72792149",
   "metadata": {},
   "outputs": [],
   "source": [
    "nvda.to_csv('NVDA.csv', index=False)"
   ]
  },
  {
   "cell_type": "markdown",
   "id": "55c43d0d",
   "metadata": {},
   "source": [
    "## Electric Power Preprocessing"
   ]
  },
  {
   "cell_type": "code",
   "execution_count": 84,
   "id": "8a2a4479",
   "metadata": {},
   "outputs": [],
   "source": [
    "aep = pd.read_csv('e_AEP.csv')\n",
    "dom = pd.read_csv('e_DOM.csv')"
   ]
  },
  {
   "cell_type": "code",
   "execution_count": 85,
   "id": "235943bc",
   "metadata": {},
   "outputs": [],
   "source": [
    "aep.columns = ['time', 'close']\n",
    "dom.columns = ['time', 'close']\n",
    "aep = aep.sort_values(by=['time']).reset_index().iloc[:,1:]\n",
    "dom = dom.sort_values(by=['time']).reset_index().iloc[:,1:]"
   ]
  },
  {
   "cell_type": "code",
   "execution_count": 89,
   "id": "97262e71",
   "metadata": {},
   "outputs": [],
   "source": [
    "new_aep = aep.iloc[list(aep['time']).index(dom['time'][0]):,:].reset_index().iloc[:,1:]"
   ]
  },
  {
   "cell_type": "code",
   "execution_count": 90,
   "id": "89bc9dce",
   "metadata": {},
   "outputs": [
    {
     "data": {
      "text/plain": [
       "(116187, 116189)"
      ]
     },
     "execution_count": 90,
     "metadata": {},
     "output_type": "execute_result"
    }
   ],
   "source": [
    "len(new_aep), len(dom)"
   ]
  },
  {
   "cell_type": "code",
   "execution_count": 93,
   "id": "010c8702",
   "metadata": {},
   "outputs": [],
   "source": [
    "new_aep = new_aep.drop_duplicates(['time'], keep='first')\n",
    "dom = dom.drop_duplicates(['time'], keep='first')"
   ]
  },
  {
   "cell_type": "code",
   "execution_count": 98,
   "id": "2b2c0250",
   "metadata": {},
   "outputs": [],
   "source": [
    "abscent = list(set(dom['time']) - set(new_aep['time']))"
   ]
  },
  {
   "cell_type": "code",
   "execution_count": 99,
   "id": "b8f725c3",
   "metadata": {},
   "outputs": [],
   "source": [
    "aa = abscent.copy()\n",
    "ind_1 = list(dom['time']).index(aa[0])\n",
    "ind_2 = list(dom['time']).index(aa[1])\n",
    "f1_b1 = [dom['time'][ind_1-1], dom['time'][ind_1+1]]\n",
    "f2_b2 = [dom['time'][ind_2-1], dom['time'][ind_2+1]]"
   ]
  },
  {
   "cell_type": "code",
   "execution_count": 102,
   "id": "6dae5ab3",
   "metadata": {},
   "outputs": [],
   "source": [
    "new_f1 = new_aep.iloc[list(new_aep['time']).index(f1_b1[0]), 1:]\n",
    "new_b1 = new_aep.iloc[list(new_aep['time']).index(f1_b1[1]), 1:]\n",
    "new_f2 = new_aep.iloc[list(new_aep['time']).index(f2_b2[0]), 1:]\n",
    "new_b2 = new_aep.iloc[list(new_aep['time']).index(f2_b2[1]), 1:]"
   ]
  },
  {
   "cell_type": "code",
   "execution_count": 104,
   "id": "c84a670f",
   "metadata": {},
   "outputs": [],
   "source": [
    "new1 = (new_f1[0] + new_b1[0]) / 2\n",
    "new2 = (new_f2[0] + new_b2[0]) / 2"
   ]
  },
  {
   "cell_type": "code",
   "execution_count": 105,
   "id": "c1da0c3c",
   "metadata": {},
   "outputs": [
    {
     "name": "stderr",
     "output_type": "stream",
     "text": [
      "/opt/conda/lib/python3.7/site-packages/pandas/core/indexing.py:692: SettingWithCopyWarning: \n",
      "A value is trying to be set on a copy of a slice from a DataFrame\n",
      "\n",
      "See the caveats in the documentation: https://pandas.pydata.org/pandas-docs/stable/user_guide/indexing.html#returning-a-view-versus-a-copy\n",
      "  iloc._setitem_with_indexer(indexer, value, self.name)\n"
     ]
    }
   ],
   "source": [
    "new_aep.loc[1112345] = [abscent[0]] + [new1]\n",
    "new_aep.loc[1112346] = [abscent[1]] + [new2]"
   ]
  },
  {
   "cell_type": "code",
   "execution_count": 106,
   "id": "02782529",
   "metadata": {},
   "outputs": [],
   "source": [
    "new_aep = new_aep.sort_values(by=['time'])"
   ]
  },
  {
   "cell_type": "code",
   "execution_count": 108,
   "id": "072f8c4a",
   "metadata": {},
   "outputs": [],
   "source": [
    "for i, j in zip(new_aep['time'], dom['time']):\n",
    "    if i != j:\n",
    "        print('no')"
   ]
  },
  {
   "cell_type": "code",
   "execution_count": 109,
   "id": "975e1247",
   "metadata": {},
   "outputs": [
    {
     "data": {
      "text/plain": [
       "(116185, 116185)"
      ]
     },
     "execution_count": 109,
     "metadata": {},
     "output_type": "execute_result"
    }
   ],
   "source": [
    "len(new_aep), len(dom)"
   ]
  },
  {
   "cell_type": "code",
   "execution_count": 110,
   "id": "58b2f22c",
   "metadata": {},
   "outputs": [],
   "source": [
    "new_aep.to_csv('e_AEP.csv', index=False)\n",
    "dom.to_csv('e_DOM.csv', index=False)"
   ]
  },
  {
   "cell_type": "code",
   "execution_count": null,
   "id": "bc7397ea",
   "metadata": {},
   "outputs": [],
   "source": []
  }
 ],
 "metadata": {
  "environment": {
   "name": "pytorch-gpu.1-8.m69",
   "type": "gcloud",
   "uri": "gcr.io/deeplearning-platform-release/pytorch-gpu.1-8:m69"
  },
  "kernelspec": {
   "display_name": "Python 3",
   "language": "python",
   "name": "python3"
  },
  "language_info": {
   "codemirror_mode": {
    "name": "ipython",
    "version": 3
   },
   "file_extension": ".py",
   "mimetype": "text/x-python",
   "name": "python",
   "nbconvert_exporter": "python",
   "pygments_lexer": "ipython3",
   "version": "3.7.10"
  }
 },
 "nbformat": 4,
 "nbformat_minor": 5
}
